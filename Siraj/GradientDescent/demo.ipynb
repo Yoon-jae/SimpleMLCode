{
 "cells": [
  {
   "cell_type": "code",
   "execution_count": 1,
   "metadata": {},
   "outputs": [],
   "source": [
    "from numpy import *\n",
    "import matplotlib.pyplot as plt"
   ]
  },
  {
   "cell_type": "code",
   "execution_count": 2,
   "metadata": {},
   "outputs": [],
   "source": [
    "# y = mx + b\n",
    "# m is slope, b is y-intercept\n",
    "\n",
    "def compute_error_for_line_given_points(b, m, points):\n",
    "    total_error = 0\n",
    "    \n",
    "    for i in range(0, len(points)):\n",
    "        x = points[i, 0]\n",
    "        y = points[i, 1]\n",
    "        total_error += (y - (m * x + b)) ** 2\n",
    "        \n",
    "    return total_error / float(len(points))"
   ]
  },
  {
   "cell_type": "code",
   "execution_count": 3,
   "metadata": {},
   "outputs": [],
   "source": [
    "def step_gradient(b_current, m_current, points, learning_rate):\n",
    "    b_gradient = 0\n",
    "    m_gradient = 0\n",
    "    N = float(len(points))\n",
    "    \n",
    "    for i in range(0, len(points)):\n",
    "        x = points[i, 0]\n",
    "        y = points[i, 1]\n",
    "        \n",
    "        # By power rule\n",
    "        b_gradient += -2 * (y - ((m_current * x) + b_current))\n",
    "        m_gradient += -2 * x * (y - ((m_current * x) + b_current))\n",
    "        \n",
    "    new_b = b_current - (learning_rate * b_gradient / N)\n",
    "    new_m = m_current - (learning_rate * m_gradient / N)\n",
    "    \n",
    "    return [new_b, new_m]"
   ]
  },
  {
   "cell_type": "code",
   "execution_count": 4,
   "metadata": {},
   "outputs": [],
   "source": [
    "def gradient_descent_runner(points, starting_b, starting_m, learning_rate, num_iterations):\n",
    "    b = starting_b\n",
    "    m = starting_m\n",
    "    \n",
    "    for i in range(num_iterations):\n",
    "        b, m = step_gradient(b, m, array(points), learning_rate)\n",
    "        \n",
    "    return [b, m]"
   ]
  },
  {
   "cell_type": "code",
   "execution_count": 5,
   "metadata": {},
   "outputs": [],
   "source": [
    "def run(lr, init_b, init_m, num_iter):\n",
    "    points = genfromtxt(\"data.csv\", delimiter=\",\")\n",
    "    learning_rate = lr\n",
    "    num_iterations = num_iter\n",
    "    error = compute_error_for_line_given_points(init_b, init_m, points)\n",
    "\n",
    "    print(\"Starting gradient descent,\")\n",
    "    print(\"y = {0} * x + {1}, error = {2}\".format(init_m, init_b, compute_error_for_line_given_points(init_b, init_m, points)))\n",
    "    print(\"\\nRunning...\\n\")\n",
    "    \n",
    "    [b, m] = gradient_descent_runner(points, init_b, init_m, learning_rate, num_iterations)\n",
    "    \n",
    "    print(\"After {0} iterations,\".format(num_iterations))\n",
    "    print(\"y = {0} * x + {1}, error = {2}\".format(m, b, compute_error_for_line_given_points(b, m, points)))\n",
    "    \n",
    "    line = m * points[:, 0] + b\n",
    "    plt.plot(points[:, 0], points[:, 1], 'o', points[:, 0], line)\n",
    "    plt.show()"
   ]
  },
  {
   "cell_type": "code",
   "execution_count": 6,
   "metadata": {},
   "outputs": [
    {
     "name": "stdout",
     "output_type": "stream",
     "text": [
      "Starting gradient descent,\n",
      "y = 0 * x + 0, error = 5565.107834483211\n",
      "\n",
      "Running...\n",
      "\n",
      "After 10000 iterations,\n",
      "y = 1.4675440436333027 * x + 0.6078985997054932, error = 112.31533427075733\n"
     ]
    },
    {
     "data": {
      "image/png": "[encoded data removed]",
      "text/plain": [
       "<matplotlib.figure.Figure at 0x104cf00f0>"
      ]
     },
     "metadata": {},
     "output_type": "display_data"
    }
   ],
   "source": [
    "run(0.0001, 0, 0, 10000)"
   ]
  }
 ],
 "metadata": {
  "kernelspec": {
   "display_name": "Python 3",
   "language": "python",
   "name": "python3"
  },
  "language_info": {
   "codemirror_mode": {
    "name": "ipython",
    "version": 3
   },
   "file_extension": ".py",
   "mimetype": "text/x-python",
   "name": "python",
   "nbconvert_exporter": "python",
   "pygments_lexer": "ipython3",
   "version": "3.6.2"
  }
 },
 "nbformat": 4,
 "nbformat_minor": 2
}
