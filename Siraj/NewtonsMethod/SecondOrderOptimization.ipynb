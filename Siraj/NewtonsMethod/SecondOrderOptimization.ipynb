{
 "cells": [
  {
   "cell_type": "code",
   "execution_count": 1,
   "metadata": {},
   "outputs": [],
   "source": [
    "from scipy.optimize import newton\n",
    "from sklearn.utils.testing import assert_almost_equal\n",
    "\n",
    "import pylab\n",
    "import numpy as np"
   ]
  },
  {
   "cell_type": "code",
   "execution_count": 2,
   "metadata": {},
   "outputs": [],
   "source": [
    "def f(x):\n",
    "    return (x - 1)**4 + 8 * (x - 1)**2 + 1\n",
    "def df(x):\n",
    "    return 4 * (x - 1)**3 + 16 * (x - 1)\n",
    "def d2f(x):\n",
    "    return 12 * (x - 1)**2 + 16"
   ]
  },
  {
   "cell_type": "code",
   "execution_count": 3,
   "metadata": {},
   "outputs": [],
   "source": [
    "def newtons_method(f, df, x0, es):\n",
    "    ea = abs(0 - f(x0))\n",
    "    while ea > es:\n",
    "        x0 -= f(x0) / df(x0)\n",
    "        ea = abs(0 - f(x0))\n",
    "    print(\"My newtons_method optimization value :\", x0)\n",
    "    return x0"
   ]
  },
  {
   "cell_type": "code",
   "execution_count": 4,
   "metadata": {},
   "outputs": [],
   "source": [
    "def test_with_scipy(f, df, x0, es):\n",
    "    my_newton = newtons_method(df, d2f, x0, es)\n",
    "    scipy_newton = newton(df, x0, d2f, tol=es)\n",
    "    print(\"scipy_newton optimization value :\", scipy_newton)\n",
    "    assert_almost_equal(my_newton, scipy_newton, decimal=5)\n",
    "    print(\"Tests passed.\\n\")\n",
    "    pylab.plot(scipy_newton, f(scipy_newton), 'o')"
   ]
  },
  {
   "cell_type": "code",
   "execution_count": 5,
   "metadata": {},
   "outputs": [
    {
     "name": "stdout",
     "output_type": "stream",
     "text": [
      "My newtons_method optimization value : 1.0\n",
      "scipy_newton optimization value : 1.0\n",
      "Tests passed.\n",
      "\n"
     ]
    },
    {
     "data": {
      "image/png": "[encoded data removed]",
      "text/plain": [
       "<matplotlib.figure.Figure at 0x10bc7ecf8>"
      ]
     },
     "metadata": {},
     "output_type": "display_data"
    }
   ],
   "source": [
    "if __name__ == '__main__':\n",
    "    x = np.linspace(0, 2, 100)\n",
    "    y = f(x)\n",
    "    pylab.plot(x, y)\n",
    "    \n",
    "    x0 = 3\n",
    "    test_with_scipy(f, df, x0, 1e-5)\n",
    "    pylab.show()"
   ]
  }
 ],
 "metadata": {
  "kernelspec": {
   "display_name": "Python 3",
   "language": "python",
   "name": "python3"
  },
  "language_info": {
   "codemirror_mode": {
    "name": "ipython",
    "version": 3
   },
   "file_extension": ".py",
   "mimetype": "text/x-python",
   "name": "python",
   "nbconvert_exporter": "python",
   "pygments_lexer": "ipython3",
   "version": "3.6.2"
  }
 },
 "nbformat": 4,
 "nbformat_minor": 2
}
