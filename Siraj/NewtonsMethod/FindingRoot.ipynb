{
 "cells": [
  {
   "cell_type": "code",
   "execution_count": 1,
   "metadata": {},
   "outputs": [],
   "source": [
    "from scipy.optimize import newton\n",
    "from sklearn.utils.testing import assert_almost_equal"
   ]
  },
  {
   "cell_type": "code",
   "execution_count": 2,
   "metadata": {},
   "outputs": [],
   "source": [
    "def f(x):\n",
    "    return 3 * x**2 - 4 * x**3 - 5 * x**4 + 6 * x**5\n",
    "def df(x):\n",
    "    return 6 * x - 12 * x**2 - 20 * x**3 + 30 * x**4"
   ]
  },
  {
   "cell_type": "code",
   "execution_count": 3,
   "metadata": {},
   "outputs": [],
   "source": [
    "def newtons_method(f, df, x0, es):\n",
    "    ea = abs(0 - f(x0))\n",
    "    while ea > es:\n",
    "        x0 -= f(x0) / df(x0)\n",
    "        ea = abs(0 - f(x0))\n",
    "    print(\"My newtons_method root :\", x0)\n",
    "    return x0"
   ]
  },
  {
   "cell_type": "code",
   "execution_count": 4,
   "metadata": {},
   "outputs": [],
   "source": [
    "def test_with_scipy(f, df, x0s, es):\n",
    "    for x0 in x0s:\n",
    "        my_newton = newtons_method(f, df, x0, es)\n",
    "        scipy_newton = newton(f, x0, df, tol=es)\n",
    "        print(\"scipy_newton root :\", scipy_newton)\n",
    "        assert_almost_equal(my_newton, scipy_newton, decimal=5)\n",
    "        print(\"Tests passed.\\n\")"
   ]
  },
  {
   "cell_type": "code",
   "execution_count": 5,
   "metadata": {},
   "outputs": [
    {
     "name": "stdout",
     "output_type": "stream",
     "text": [
      "My newtons_method root : 0\n",
      "scipy_newton root : 0.0\n",
      "Tests passed.\n",
      "\n",
      "My newtons_method root : 0.6286680781673307\n",
      "scipy_newton root : 0.6286669787779\n",
      "Tests passed.\n",
      "\n",
      "My newtons_method root : 1\n",
      "scipy_newton root : 1.0\n",
      "Tests passed.\n",
      "\n"
     ]
    },
    {
     "name": "stderr",
     "output_type": "stream",
     "text": [
      "/usr/local/lib/python3.6/site-packages/scipy/optimize/zeros.py:173: RuntimeWarning: derivative was zero.\n",
      "  warnings.warn(msg, RuntimeWarning)\n"
     ]
    }
   ],
   "source": [
    "if __name__ == '__main__':\n",
    "    x0s = [0, .5, 1]\n",
    "    test_with_scipy(f, df, x0s, 1e-5)"
   ]
  }
 ],
 "metadata": {
  "kernelspec": {
   "display_name": "Python 3",
   "language": "python",
   "name": "python3"
  },
  "language_info": {
   "codemirror_mode": {
    "name": "ipython",
    "version": 3
   },
   "file_extension": ".py",
   "mimetype": "text/x-python",
   "name": "python",
   "nbconvert_exporter": "python",
   "pygments_lexer": "ipython3",
   "version": "3.6.2"
  }
 },
 "nbformat": 4,
 "nbformat_minor": 2
}
